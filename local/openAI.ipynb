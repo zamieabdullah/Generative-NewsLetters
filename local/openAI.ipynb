{
 "cells": [
  {
   "cell_type": "markdown",
   "id": "b31b27ca-acd9-4ef1-9c29-a74d16419aea",
   "metadata": {},
   "source": [
    "# Using OpenAI for Data Analysis and Prediction\n",
    "### First setting up data with sklearn and pandas libraries"
   ]
  },
  {
   "cell_type": "code",
   "execution_count": 1,
   "id": "e0e5d9b1-d9c2-40ea-ab39-cbbb83899cff",
   "metadata": {},
   "outputs": [
    {
     "name": "stdout",
     "output_type": "stream",
     "text": [
      "Requirement already satisfied: openai in c:\\users\\zamie abdullah\\anaconda3\\lib\\site-packages (1.32.0)\n",
      "Collecting openai\n",
      "  Downloading openai-1.33.0-py3-none-any.whl.metadata (21 kB)\n",
      "Requirement already satisfied: anyio<5,>=3.5.0 in c:\\users\\zamie abdullah\\anaconda3\\lib\\site-packages (from openai) (4.2.0)\n",
      "Requirement already satisfied: distro<2,>=1.7.0 in c:\\users\\zamie abdullah\\anaconda3\\lib\\site-packages (from openai) (1.8.0)\n",
      "Requirement already satisfied: httpx<1,>=0.23.0 in c:\\users\\zamie abdullah\\anaconda3\\lib\\site-packages (from openai) (0.27.0)\n",
      "Requirement already satisfied: pydantic<3,>=1.9.0 in c:\\users\\zamie abdullah\\anaconda3\\lib\\site-packages (from openai) (1.10.12)\n",
      "Requirement already satisfied: sniffio in c:\\users\\zamie abdullah\\anaconda3\\lib\\site-packages (from openai) (1.3.0)\n",
      "Requirement already satisfied: tqdm>4 in c:\\users\\zamie abdullah\\anaconda3\\lib\\site-packages (from openai) (4.65.0)\n",
      "Requirement already satisfied: typing-extensions<5,>=4.7 in c:\\users\\zamie abdullah\\anaconda3\\lib\\site-packages (from openai) (4.9.0)\n",
      "Requirement already satisfied: idna>=2.8 in c:\\users\\zamie abdullah\\anaconda3\\lib\\site-packages (from anyio<5,>=3.5.0->openai) (3.4)\n",
      "Requirement already satisfied: certifi in c:\\users\\zamie abdullah\\anaconda3\\lib\\site-packages (from httpx<1,>=0.23.0->openai) (2024.2.2)\n",
      "Requirement already satisfied: httpcore==1.* in c:\\users\\zamie abdullah\\anaconda3\\lib\\site-packages (from httpx<1,>=0.23.0->openai) (1.0.5)\n",
      "Requirement already satisfied: h11<0.15,>=0.13 in c:\\users\\zamie abdullah\\anaconda3\\lib\\site-packages (from httpcore==1.*->httpx<1,>=0.23.0->openai) (0.14.0)\n",
      "Requirement already satisfied: colorama in c:\\users\\zamie abdullah\\anaconda3\\lib\\site-packages (from tqdm>4->openai) (0.4.6)\n",
      "Downloading openai-1.33.0-py3-none-any.whl (325 kB)\n",
      "   ---------------------------------------- 0.0/325.5 kB ? eta -:--:--\n",
      "   --------------------- ------------------ 174.1/325.5 kB 5.1 MB/s eta 0:00:01\n",
      "   ---------------------------------------- 325.5/325.5 kB 5.0 MB/s eta 0:00:00\n",
      "Installing collected packages: openai\n",
      "  Attempting uninstall: openai\n",
      "    Found existing installation: openai 1.32.0\n",
      "    Uninstalling openai-1.32.0:\n",
      "      Successfully uninstalled openai-1.32.0\n",
      "Successfully installed openai-1.33.0\n"
     ]
    }
   ],
   "source": [
    "!pip install --upgrade openai"
   ]
  },
  {
   "cell_type": "code",
   "execution_count": 2,
   "id": "493eeb9e-6990-4590-93cd-b7569075bd06",
   "metadata": {},
   "outputs": [
    {
     "name": "stdout",
     "output_type": "stream",
     "text": [
      "Mean Absolute Error (MAE): 0.0078449375\n",
      "Mean Squared Error (MSE): 0.0001349643116874999\n"
     ]
    }
   ],
   "source": [
    "import pandas as pd\n",
    "from sklearn.model_selection import train_test_split\n",
    "from sklearn.ensemble import RandomForestRegressor\n",
    "from sklearn.preprocessing import StandardScaler\n",
    "from sklearn.metrics import mean_absolute_error, mean_squared_error\n",
    "\n",
    "# Load and prepare the dataset\n",
    "df = pd.read_csv('../csv/RDC_Inventory_Monthly_Core_Metrics_Country_History.csv')\n",
    "df.dropna(inplace=True)\n",
    "df = df.iloc[::-1].reset_index(drop=True)\n",
    "\n",
    "# Feature engineering: Add new features if possible\n",
    "# Example: Extract year and month from 'month_date_yyyymm'\n",
    "df['year'] = df['month_date_yyyymm'].astype(str).str[:4].astype(int)\n",
    "df['month'] = df['month_date_yyyymm'].astype(str).str[4:6].astype(int)\n",
    "\n",
    "# Add lag features\n",
    "df['lag_1'] = df['median_listing_price_mm'].shift(1)\n",
    "df['lag_2'] = df['median_listing_price_mm'].shift(2)\n",
    "df['lag_3'] = df['median_listing_price_mm'].shift(3)\n",
    "df.dropna(inplace=True)  # Drop rows with NaN values resulting from lagging\n",
    "\n",
    "features = ['year', 'month','lag_1', 'lag_2', 'lag_3']\n",
    "\n",
    "# Define features and target variable\n",
    "X = df[features]  # Features (updated to use year and month)\n",
    "y = df['median_listing_price_mm']  # Target variable\n",
    "\n",
    "# Scale features\n",
    "scaler = StandardScaler()\n",
    "X_scaled = scaler.fit_transform(X)\n",
    "\n",
    "# Split the data into training and test sets\n",
    "X_train, X_test, y_train, y_test = train_test_split(X_scaled, y, test_size=0.2, random_state=42)\n",
    "\n",
    "# Train the model with cross-validation\n",
    "model = RandomForestRegressor()\n",
    "model.fit(X_train, y_train)\n",
    "\n",
    "# Make predictions on the test set\n",
    "predictions = model.predict(X_test)\n",
    "\n",
    "# Evaluate the model\n",
    "mae = mean_absolute_error(y_test, predictions)\n",
    "mse = mean_squared_error(y_test, predictions)\n",
    "print(\"Mean Absolute Error (MAE):\", mae)\n",
    "print(\"Mean Squared Error (MSE):\", mse)"
   ]
  },
  {
   "cell_type": "markdown",
   "id": "27b5cc74-a520-45b4-ae32-8d69f08d4693",
   "metadata": {},
   "source": [
    "### Using OpenAI to learn data and make predictions"
   ]
  },
  {
   "cell_type": "code",
   "execution_count": 5,
   "id": "a88de525-dae7-4511-b572-28a7e4d82be4",
   "metadata": {},
   "outputs": [],
   "source": [
    "from openai import OpenAI\n",
    "import os\n",
    "from dotenv import load_dotenv\n",
    "\n",
    "load_dotenv()\n",
    "gpt = os.getenv('gpt_token')\n",
    "org = os.getenv('gpt_org')\n",
    "\n",
    "client = OpenAI(api_key=gpt, organization=org)\n",
    "\n",
    "summary_prompt = f\"\"\"\n",
    "Analyze the following predictions and real estate metrics data:\n",
    "{df.to_dict()}\n",
    "What are the key trends and insights? Can you also provide predictions of \n",
    "up to a year into the future based on the information for each section of the metrics.\n",
    "\"\"\"\n",
    "\n",
    "response = client.chat.completions.create(\n",
    "    model=\"gpt-4o\",\n",
    "    messages=[\n",
    "        {\"role\": \"system\", \"content\": \"You are a helpful assistant.\"},\n",
    "        {\"role\": \"user\", \"content\": summary_prompt}\n",
    "    ],\n",
    "    max_tokens=2000\n",
    ")\n",
    "\n"
   ]
  },
  {
   "cell_type": "code",
   "execution_count": 6,
   "id": "80fecd75-25f5-4258-855c-c8fa9cb4ab99",
   "metadata": {},
   "outputs": [
    {
     "name": "stdout",
     "output_type": "stream",
     "text": [
      "### Key Trends and Insights:\n",
      "\n",
      "1. **Median Listing Price**:\n",
      "    - From October 2017 to October 2023, there has been a general upward trend in the median listing price with periodic corrections.\n",
      "    - Notable jumps occurred during 2022, reaching a peak of $450,000 in June 2022.\n",
      "    - Early 2023 has shown cooling down with prices around $429,950 in April 2023.\n",
      "\n",
      "2. **Median Listing Price MoM (Month over Month) and YoY (Year over Year)**:\n",
      "    - MoM changes show some volatility but a consistent upward trend until late 2022.\n",
      "    - YoY changes peaked massively in early 2022 but have declined considerably by early 2023.\n",
      "\n",
      "3. **Active Listing Count**:\n",
      "    - There’s a significant decrease in the number of active listings from 2018 through 2021, reaching a low point in early 2022.\n",
      "    - 2023 saw a resurgence in active listings, suggesting more inventory becoming available in the market.\n",
      "    \n",
      "4. **Days on Market**:\n",
      "    - The median days on market have seen cyclical patterns. Significantly shorter days were observed during mid-year months post-2020. \n",
      "    - The trend points towards more balanced periods between longer market days and quicker listings.\n",
      "\n",
      "5. **New Listing Count**:\n",
      "    - The number of new listings has been volatile with considerable drops and recoveries evident, especially during the pandemic years (late 2019-2022).\n",
      "    - The data reveals potential seasonality, with peaks generally in late spring/early summer.\n",
      "\n",
      "6. **Pending Listing Count**:\n",
      "    - A decline in pending listings after 2019 with a resurgence in 2022 onwards despite the volatility.\n",
      "    - The trend indicates possible market stabilization following the fluctuations during the pandemic.\n",
      "\n",
      "7. **Price Change Metrics**:\n",
      "    - The number of price increases and reductions have broad fluctuations, showing many sellers are adjusting prices actively in response to market dynamics.\n",
      "    - Price decreases surged particularly in 2022, reflecting adjustments to high listing prices potentially.\n",
      "\n",
      "8. **Median Listing Price per Square Foot**:\n",
      "    - Continuous upward trend indicating rising property values, regardless of fluctuations in overall listing prices.\n",
      "    - Price per square foot has grown from $134 in late 2017 to $230 in April 2024.\n",
      "\n",
      "9. **Median Square Feet of Listings**:\n",
      "    - Relatively stable with minor fluctuations, indicating that the size of homes listed has not significantly changed over the period evaluated.\n",
      "  \n",
      "10. **Total Listing Count**:\n",
      "    - A dip throughout the early 2020s with increases in recent years, suggesting market movements resurging post-pandemic dips.\n",
      "\n",
      "11. **Pending Ratio**:\n",
      "    - Higher pending ratios recently suggest quicker absorption of markets compared to the more stable, lower ratios of earlier years.\n",
      "\n",
      "\n",
      "### Predictions for the Next Year (up to December 2024):\n",
      "\n",
      "1. **Median Listing Price**:\n",
      "   - **Projected Increase** likely around 3-5% annually due to continued demand and inflationary pressures. \n",
      "   - **Estimated Price**: Close to $445,000-$450,000 by mid-2024 and $460,000 by the end of 2024.\n",
      "\n",
      "2. **Active Listing Count**:\n",
      "   - The trend suggests a probable stabilization or slight increase as markets balance. Expect around 1-1.1 million by mid-2024 and possibly stabilizing marginally higher as inventory increases.\n",
      "   - **Estimated Active Listings**: 1.2 million by end of 2024.\n",
      "\n",
      "3. **Median Days on Market**:\n",
      "   - Continued stabilization with median days expected to stay within the 45-60 day range as the market balances out.\n",
      "   \n",
      "4. **New Listings Count**:\n",
      "   - A potential increase in new listings as the market conditions improve could see new listings peaking again in spring/summer of 2024 reaching around 400,000-500,000 per month.\n",
      "\n",
      "5. **Pending Listings**:\n",
      "   - Stabilization at higher levels. Projected pending listings at approximately 500,000-550,000 into mid-2024 increasing slightly towards year-end if market conditions maintain positive trends.\n",
      "\n",
      "6. **Median Listing Price per Square Foot**:\n",
      "   - Expect a continuation of the upward trend. Likely to increase by around 5-6% annually, peaking around $240-$245 per square foot by the end of 2024.\n",
      "\n",
      "7. **Total Listing Count**:\n",
      "   - Would continue to stabilize or potentially increase slightly, alongside the overall market inventory trend.\n",
      "   - **Estimated Total Listing**: Around 1.1-1.2 million going into late 2024.\n",
      "\n",
      "8. **Pending Ratio**:\n",
      "    - Likely to stabilize at a near-balanced market indicator level ranging between 0.6-0.7 over this period.\n",
      "\n",
      "These projections consider the current trends observed in the provided data and general real estate market trajectory accounting for seasonal fluctuations and potential external economic impacts.\n"
     ]
    }
   ],
   "source": [
    "print(response.choices[0].message.content)"
   ]
  },
  {
   "cell_type": "code",
   "execution_count": null,
   "id": "da78b5f7-5c4f-48e3-9852-e70a2cb27b18",
   "metadata": {},
   "outputs": [],
   "source": []
  }
 ],
 "metadata": {
  "kernelspec": {
   "display_name": "Python 3 (ipykernel)",
   "language": "python",
   "name": "python3"
  },
  "language_info": {
   "codemirror_mode": {
    "name": "ipython",
    "version": 3
   },
   "file_extension": ".py",
   "mimetype": "text/x-python",
   "name": "python",
   "nbconvert_exporter": "python",
   "pygments_lexer": "ipython3",
   "version": "3.11.7"
  }
 },
 "nbformat": 4,
 "nbformat_minor": 5
}
